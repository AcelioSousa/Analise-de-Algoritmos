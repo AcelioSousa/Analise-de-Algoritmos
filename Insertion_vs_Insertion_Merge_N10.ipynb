{
  "cells": [
    {
      "cell_type": "code",
      "execution_count": null,
      "id": "c1ae6cce-2aa7-449b-a4a0-80b1d3a80a55",
      "metadata": {
        "id": "c1ae6cce-2aa7-449b-a4a0-80b1d3a80a55"
      },
      "outputs": [],
      "source": [
        "from itertools import permutations\n",
        "from itertools import combinations\n",
        "import time\n",
        "import itertools\n",
        "import numpy as np\n",
        "import random\n",
        "import matplotlib.pyplot as plt\n",
        "import seaborn as sns\n",
        "import pandas as pd\n",
        "import math"
      ]
    },
    {
      "cell_type": "code",
      "execution_count": null,
      "id": "5267cc92-3817-4374-85eb-ab994ac4b5fd",
      "metadata": {
        "colab": {
          "base_uri": "https://localhost:8080/"
        },
        "id": "5267cc92-3817-4374-85eb-ab994ac4b5fd",
        "outputId": "2a2ca0c5-38b2-4e34-de3a-912c4258806f"
      },
      "outputs": [
        {
          "name": "stdout",
          "output_type": "stream",
          "text": [
            "[149, 2662, 2718, 3108, 3365, 3477, 4163, 4703, 6652, 7096]\n"
          ]
        }
      ],
      "source": [
        "ini = 10\n",
        "end = 10001\n",
        "n = np.sort(np.random.randint(ini,end,10)).tolist()\n",
        "print(n)"
      ]
    },
    {
      "cell_type": "code",
      "execution_count": null,
      "id": "a582f2e8-53ec-465e-b96d-645c429d1132",
      "metadata": {
        "colab": {
          "base_uri": "https://localhost:8080/"
        },
        "id": "a582f2e8-53ec-465e-b96d-645c429d1132",
        "outputId": "606e6622-0277-4861-c6df-9311579a0c5e"
      },
      "outputs": [
        {
          "name": "stdout",
          "output_type": "stream",
          "text": [
            "18\n"
          ]
        }
      ],
      "source": [
        "m = random.randint(10, 21)\n",
        "print(m)"
      ]
    },
    {
      "cell_type": "code",
      "execution_count": null,
      "id": "fb9b463d-4d0e-43d6-a779-42cde0c8c5da",
      "metadata": {
        "id": "fb9b463d-4d0e-43d6-a779-42cde0c8c5da"
      },
      "outputs": [],
      "source": [
        "def insertionsort(m):\n",
        "    n = len(m)\n",
        "    for i in range(1, n):\n",
        "        p = m[i]\n",
        "        j = i - 1\n",
        "        while j >= 0 and p < m[j]:\n",
        "            m[j + 1] = m[j]\n",
        "            j -= 1\n",
        "            \n",
        "        m[j + 1] = p\n",
        "        \n",
        "\n",
        "    return m"
      ]
    },
    {
      "cell_type": "code",
      "execution_count": null,
      "id": "fd0fef0c-2eb5-4143-a2e2-aee6a8dbbe75",
      "metadata": {
        "id": "fd0fef0c-2eb5-4143-a2e2-aee6a8dbbe75"
      },
      "outputs": [],
      "source": [
        "def merge(left, right): \n",
        "    if len(left) == 0:\n",
        "        return right\n",
        "    if len(right) == 0:\n",
        "        return left\n",
        "    merged = []\n",
        "    l_index = r_index = 0\n",
        "    while len(merged) < len(left) + len(right):\n",
        "        if left[l_index] <= right[r_index]:\n",
        "            merged.append(left[l_index])\n",
        "            l_index += 1\n",
        "        else:\n",
        "            merged.append(right[r_index])\n",
        "            r_index += 1       \n",
        "        if r_index == len(right):\n",
        "            for element in left[l_index:]:\n",
        "              merged.append(element)\n",
        "            break\n",
        "        if l_index == len(left):\n",
        "            for element in right[r_index:]:\n",
        "              merged.append(element)\n",
        "            break\n",
        "    return merged"
      ]
    },
    {
      "cell_type": "code",
      "execution_count": null,
      "id": "66180a5f-5236-40e7-9af5-d21e0c21fd76",
      "metadata": {
        "id": "66180a5f-5236-40e7-9af5-d21e0c21fd76"
      },
      "outputs": [],
      "source": [
        "def splitArray(list_a, chunk_size):\n",
        "    sub_arrays = []\n",
        "    size =  np.asarray([chunk_size]*math.ceil(len(list_a)/chunk_size))\n",
        "\n",
        "    for i in range(len(size)):\n",
        "      sub_arrays.append(list_a[i*chunk_size:(i+1)*chunk_size])\n",
        "      \n",
        "    return sub_arrays"
      ]
    },
    {
      "cell_type": "code",
      "execution_count": null,
      "id": "59138fef-4aa0-4a85-a168-99af853c959f",
      "metadata": {
        "id": "59138fef-4aa0-4a85-a168-99af853c959f"
      },
      "outputs": [],
      "source": [
        "def combine_pairs(arrays):\n",
        "    if(len(arrays)==1):\n",
        "        return arrays\n",
        "    result = arrays\n",
        "    while len(result)>1:\n",
        "      i = 0\n",
        "      temp_result = []\n",
        "      while i <len(result):\n",
        "        \n",
        "        if len(result) % 2 == 0:\n",
        "          temp_result.append(merge(result[i],result[i+1]))\n",
        "          i+=2\n",
        "        else:\n",
        "          if i == (len(result)-1):\n",
        "            temp_result.append(result[i])            \n",
        "          else:\n",
        "            temp_result.append(merge(result[i],result[i+1]))\n",
        "          i+=2\n",
        "\n",
        "      result = temp_result\n",
        "    return result[0]\n",
        "    \n",
        "def insertion_sort_combined(array, subv_len=10):\n",
        "    sub_arrays = list(splitArray(array,subv_len))\n",
        "    for i in range(0,len(sub_arrays)):\n",
        "        sub_arrays[i]=insertionsort(sub_arrays[i])\n",
        "    return combine_pairs(sub_arrays)"
      ]
    },
    {
      "cell_type": "code",
      "execution_count": null,
      "id": "8fa39c5d-0071-4372-bf7f-e831a0bd6138",
      "metadata": {
        "colab": {
          "base_uri": "https://localhost:8080/"
        },
        "collapsed": true,
        "id": "8fa39c5d-0071-4372-bf7f-e831a0bd6138",
        "jupyter": {
          "outputs_hidden": true
        },
        "outputId": "559180c0-8edc-45de-c560-eeef449904eb",
        "tags": []
      },
      "outputs": [
        {
          "name": "stdout",
          "output_type": "stream",
          "text": [
            "149 0\n",
            "149 1\n",
            "149 2\n",
            "149 3\n",
            "149 4\n",
            "149 5\n",
            "149 6\n",
            "149 7\n",
            "149 8\n",
            "149 9\n",
            "149 10\n",
            "149 11\n",
            "149 12\n",
            "149 13\n",
            "149 14\n",
            "149 15\n",
            "149 16\n",
            "149 17\n",
            "2662 0\n",
            "2662 1\n",
            "2662 2\n",
            "2662 3\n",
            "2662 4\n",
            "2662 5\n",
            "2662 6\n",
            "2662 7\n",
            "2662 8\n",
            "2662 9\n",
            "2662 10\n",
            "2662 11\n",
            "2662 12\n",
            "2662 13\n",
            "2662 14\n",
            "2662 15\n",
            "2662 16\n",
            "2662 17\n",
            "2718 0\n",
            "2718 1\n",
            "2718 2\n",
            "2718 3\n",
            "2718 4\n",
            "2718 5\n",
            "2718 6\n",
            "2718 7\n",
            "2718 8\n",
            "2718 9\n",
            "2718 10\n",
            "2718 11\n",
            "2718 12\n",
            "2718 13\n",
            "2718 14\n",
            "2718 15\n",
            "2718 16\n",
            "2718 17\n",
            "3108 0\n",
            "3108 1\n",
            "3108 2\n",
            "3108 3\n",
            "3108 4\n",
            "3108 5\n",
            "3108 6\n",
            "3108 7\n",
            "3108 8\n",
            "3108 9\n",
            "3108 10\n",
            "3108 11\n",
            "3108 12\n",
            "3108 13\n",
            "3108 14\n",
            "3108 15\n",
            "3108 16\n",
            "3108 17\n",
            "3365 0\n",
            "3365 1\n",
            "3365 2\n",
            "3365 3\n",
            "3365 4\n",
            "3365 5\n",
            "3365 6\n",
            "3365 7\n",
            "3365 8\n",
            "3365 9\n",
            "3365 10\n",
            "3365 11\n",
            "3365 12\n",
            "3365 13\n",
            "3365 14\n",
            "3365 15\n",
            "3365 16\n",
            "3365 17\n",
            "3477 0\n",
            "3477 1\n",
            "3477 2\n",
            "3477 3\n",
            "3477 4\n",
            "3477 5\n",
            "3477 6\n",
            "3477 7\n",
            "3477 8\n",
            "3477 9\n",
            "3477 10\n",
            "3477 11\n",
            "3477 12\n",
            "3477 13\n",
            "3477 14\n",
            "3477 15\n",
            "3477 16\n",
            "3477 17\n",
            "4163 0\n",
            "4163 1\n",
            "4163 2\n",
            "4163 3\n",
            "4163 4\n",
            "4163 5\n",
            "4163 6\n",
            "4163 7\n",
            "4163 8\n",
            "4163 9\n",
            "4163 10\n",
            "4163 11\n",
            "4163 12\n",
            "4163 13\n",
            "4163 14\n",
            "4163 15\n",
            "4163 16\n",
            "4163 17\n",
            "4703 0\n",
            "4703 1\n",
            "4703 2\n",
            "4703 3\n",
            "4703 4\n",
            "4703 5\n",
            "4703 6\n",
            "4703 7\n",
            "4703 8\n",
            "4703 9\n",
            "4703 10\n",
            "4703 11\n",
            "4703 12\n",
            "4703 13\n",
            "4703 14\n",
            "4703 15\n",
            "4703 16\n",
            "4703 17\n",
            "6652 0\n",
            "6652 1\n",
            "6652 2\n",
            "6652 3\n",
            "6652 4\n",
            "6652 5\n",
            "6652 6\n",
            "6652 7\n",
            "6652 8\n",
            "6652 9\n",
            "6652 10\n",
            "6652 11\n",
            "6652 12\n",
            "6652 13\n",
            "6652 14\n",
            "6652 15\n",
            "6652 16\n",
            "6652 17\n",
            "7096 0\n",
            "7096 1\n",
            "7096 2\n",
            "7096 3\n",
            "7096 4\n",
            "7096 5\n",
            "7096 6\n",
            "7096 7\n",
            "7096 8\n",
            "7096 9\n",
            "7096 10\n",
            "7096 11\n",
            "7096 12\n",
            "7096 13\n",
            "7096 14\n",
            "7096 15\n",
            "7096 16\n",
            "7096 17\n"
          ]
        },
        {
          "data": {
            "text/plain": [
              "((7096,),\n",
              " [0.0025782627222222182,\n",
              "  1.0009595328333336,\n",
              "  0.7727081239999996,\n",
              "  0.9908700268333328,\n",
              "  1.168269653222222,\n",
              "  1.2746772151666643,\n",
              "  1.7605319163333324,\n",
              "  2.346145397944443,\n",
              "  4.541809024000003,\n",
              "  5.293429691388886],\n",
              " [0.000376715333333339,\n",
              "  0.01381692405555526,\n",
              "  0.01029544861111119,\n",
              "  0.011442322277777429,\n",
              "  0.01315769127777718,\n",
              "  0.01281751038888896,\n",
              "  0.01572866127777988,\n",
              "  0.018366951000002827,\n",
              "  0.028149814611115036,\n",
              "  0.030675788388890624])"
            ]
          },
          "execution_count": 8,
          "metadata": {},
          "output_type": "execute_result"
        }
      ],
      "source": [
        "vetor = []\n",
        "media_total_insertion = []\n",
        "media_total_insertion_comb = []\n",
        "for n_ in n:\n",
        "    tempo_insertion = []\n",
        "    tempo_insertion_comb = []\n",
        "    for m_ in range(m):\n",
        "        print(n_, m_)\n",
        "        vetor = np.random.uniform(-2.0*n_, 2.0*n_, n_)\n",
        "\n",
        "        start = time.process_time()\n",
        "        insertion_sorted = insertionsort(vetor)\n",
        "        end = time.process_time()\n",
        "        tempo_insertion.append(end-start)\n",
        "\n",
        "        start = time.process_time()\n",
        "        insertion_sorted_comb = insertion_sort_combined(vetor)\n",
        "        end = time.process_time()\n",
        "        tempo_insertion_comb.append(end-start)\n",
        "\n",
        "    media_total_insertion.append(np.mean(np.asarray(tempo_insertion)))\n",
        "    media_total_insertion_comb.append(np.mean(np.asarray(tempo_insertion_comb)))\n",
        "vetor.shape, media_total_insertion,media_total_insertion_comb"
      ]
    },
    {
      "cell_type": "code",
      "execution_count": null,
      "id": "4FTZduUDMBsL",
      "metadata": {
        "colab": {
          "base_uri": "https://localhost:8080/",
          "height": 726
        },
        "id": "4FTZduUDMBsL",
        "outputId": "b18ff7b7-fdd8-4b07-9639-c0a6ac9a5020"
      },
      "outputs": [
        {
          "data": {
            "text/plain": [
              "<matplotlib.legend.Legend at 0x7f40485f5050>"
            ]
          },
          "execution_count": 10,
          "metadata": {},
          "output_type": "execute_result"
        },
        {
          "data": {
            "image/png": "[encoded data removed]",
            "text/plain": [
              "<Figure size 2880x1080 with 1 Axes>"
            ]
          },
          "metadata": {
            "needs_background": "light"
          },
          "output_type": "display_data"
        }
      ],
      "source": [
        "fig, ax =plt.subplots(1,1,figsize=(40,15))\n",
        "df1 = pd.DataFrame({'Tamanho': n,\n",
        "                  'Tempo (s)': media_total_insertion})\n",
        "df2 = pd.DataFrame({'Tamanho': n,\n",
        "                  'Tempo (s)': media_total_insertion_comb})\n",
        "sns.lineplot(x='Tamanho',y='Tempo (s)',data=df1,ax = ax)\n",
        "sns.lineplot(x='Tamanho',y='Tempo (s)',data=df2,ax = ax)\n",
        "fig.legend(labels=[\"Insertion\",\"Insertion_Merge_N/10\"])"
      ]
    }
  ],
  "metadata": {
    "colab": {
      "provenance": []
    },
    "kernelspec": {
      "display_name": "Python 3 (ipykernel)",
      "language": "python",
      "name": "python3"
    },
    "language_info": {
      "codemirror_mode": {
        "name": "ipython",
        "version": 3
      },
      "file_extension": ".py",
      "mimetype": "text/x-python",
      "name": "python",
      "nbconvert_exporter": "python",
      "pygments_lexer": "ipython3",
      "version": "3.9.12"
    }
  },
  "nbformat": 4,
  "nbformat_minor": 5
}