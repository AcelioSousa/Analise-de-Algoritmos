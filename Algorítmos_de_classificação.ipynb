{
  "nbformat": 4,
  "nbformat_minor": 0,
  "metadata": {
    "colab": {
      "provenance": [],
      "authorship_tag": "ABX9TyNf89vRCFckGa3zEugUsxuK"
    },
    "kernelspec": {
      "name": "python3",
      "display_name": "Python 3"
    },
    "language_info": {
      "name": "python"
    }
  },
  "cells": [
    {
      "cell_type": "code",
      "source": [
        "def BublleSort(lista):\n",
        "  ultimoelementoindex = len(lista) - 1\n",
        "  for i in range(ultimoelementoindex, 0, -1):\n",
        "    for j in range(i):\n",
        "      if lista[j] > lista[j + 1]:\n",
        "        lista[j], lista[j + 1] = lista[j + 1], lista[j]\n",
        "      print(j + 1, lista)\n",
        "    print('_______________________________')\n",
        "    print('Lista ordenada')\n",
        "    return lista"
      ],
      "metadata": {
        "id": "1KKlNXmGr9hs"
      },
      "execution_count": 1,
      "outputs": []
    },
    {
      "cell_type": "code",
      "source": [
        "lista = [33, 2, 16, 4, 8, 19, 26]\n",
        "\n",
        "BublleSort(lista)"
      ],
      "metadata": {
        "colab": {
          "base_uri": "https://localhost:8080/"
        },
        "id": "Wv2LymzYuiF3",
        "outputId": "a3098d9b-bbfe-4df8-e22e-b844ab1c8699"
      },
      "execution_count": 3,
      "outputs": [
        {
          "output_type": "stream",
          "name": "stdout",
          "text": [
            "1 [2, 33, 16, 4, 8, 19, 26]\n",
            "2 [2, 16, 33, 4, 8, 19, 26]\n",
            "3 [2, 16, 4, 33, 8, 19, 26]\n",
            "4 [2, 16, 4, 8, 33, 19, 26]\n",
            "5 [2, 16, 4, 8, 19, 33, 26]\n",
            "6 [2, 16, 4, 8, 19, 26, 33]\n",
            "_______________________________\n",
            "Lista ordenada\n"
          ]
        },
        {
          "output_type": "execute_result",
          "data": {
            "text/plain": [
              "[2, 16, 4, 8, 19, 26, 33]"
            ]
          },
          "metadata": {},
          "execution_count": 3
        }
      ]
    },
    {
      "cell_type": "code",
      "source": [
        "def InsertionSort(lista):\n",
        "\n",
        "  for i in range(1, len(lista)):\n",
        "    j = i-1\n",
        "\n",
        "    proximo_element = lista[i]\n",
        "\n",
        "    while (lista[j] > proximo_element) and (j >= 0):\n",
        "\n",
        "      lista[j + 1] = lista[j]\n",
        "      j = j - 1\n",
        "\n",
        "\n",
        "    lista[j + 1] = proximo_element\n",
        "\n",
        "  return lista"
      ],
      "metadata": {
        "id": "3KOAwO_iursx"
      },
      "execution_count": 4,
      "outputs": []
    },
    {
      "cell_type": "code",
      "source": [
        "InsertionSort(lista)"
      ],
      "metadata": {
        "colab": {
          "base_uri": "https://localhost:8080/"
        },
        "id": "uRyGld5S0Jy2",
        "outputId": "337be0c9-e8b9-4084-afaa-7bb4d4a1bc98"
      },
      "execution_count": 5,
      "outputs": [
        {
          "output_type": "execute_result",
          "data": {
            "text/plain": [
              "[2, 4, 8, 16, 19, 26, 33]"
            ]
          },
          "metadata": {},
          "execution_count": 5
        }
      ]
    },
    {
      "cell_type": "code",
      "source": [
        "def mergsort(lista):\n",
        "  if len(lista)> 1:\n",
        "    meio = len(lista)// 2\n",
        "    esq = lista[:meio]\n",
        "    dir = lista[meio:]\n",
        "\n",
        "    mergsort(esq)\n",
        "    mergsort(dir)\n",
        "\n",
        "    a = 0\n",
        "    b = 0\n",
        "    c = 0\n",
        "\n",
        "    while a < len(esq) and b < len(dir):\n",
        "      if esq[a] < dir[b]:\n",
        "        lista[c] = esq[a]\n",
        "        a = a + 1\n",
        "      else:\n",
        "        lista[c] = dir[b]\n",
        "        b = b + 1\n",
        "\n",
        "      c = c + 1\n",
        "\n",
        "    while a < len(esq):\n",
        "      lista[c] = esq[a]\n",
        "\n",
        "      a = a + 1\n",
        "      c = c + 1\n",
        "\n",
        "\n",
        "    while b < len(dir):\n",
        "\n",
        "      lista[c] = dir[b]\n",
        "      b = b + 1\n",
        "      c = c + 1\n",
        "\n",
        "  return lista"
      ],
      "metadata": {
        "id": "ow6YaH1l0MeK"
      },
      "execution_count": 6,
      "outputs": []
    },
    {
      "cell_type": "code",
      "source": [
        "lista = [25, 21, 22, 24, 23, 27, 26, 21, 12, 16]"
      ],
      "metadata": {
        "id": "m1JfI4m7Wwkc"
      },
      "execution_count": 7,
      "outputs": []
    },
    {
      "cell_type": "code",
      "source": [
        "mergsort(lista)"
      ],
      "metadata": {
        "colab": {
          "base_uri": "https://localhost:8080/"
        },
        "id": "HQmxm87mWoUw",
        "outputId": "c82b424f-1d61-4d68-fa38-9e15a594e92c"
      },
      "execution_count": 8,
      "outputs": [
        {
          "output_type": "execute_result",
          "data": {
            "text/plain": [
              "[12, 16, 21, 21, 22, 23, 24, 25, 26, 27]"
            ]
          },
          "metadata": {},
          "execution_count": 8
        }
      ]
    },
    {
      "cell_type": "code",
      "source": [
        "def shellsort(lista):\n",
        "    distancia = len(lista) // 2\n",
        "    while distancia > 0:\n",
        "        for i in range(distancia, len(lista)):\n",
        "          t = lista[i]\n",
        "          j = i\n",
        "          while j >= distancia and lista[j - distancia] > t:\n",
        "            lista[j] = lista[j - distancia]\n",
        "            j = j - distancia\n",
        "          lista[j] = t\n",
        "\n",
        "        distancia = distancia//2\n",
        "\n",
        "    return lista"
      ],
      "metadata": {
        "id": "t46gRJ-LbbVM"
      },
      "execution_count": 9,
      "outputs": []
    },
    {
      "cell_type": "code",
      "source": [
        "shellsort(lista)"
      ],
      "metadata": {
        "colab": {
          "base_uri": "https://localhost:8080/"
        },
        "id": "_ly6cUEsYlTP",
        "outputId": "ea85cdc0-0fca-471b-8ffa-29b574eedab0"
      },
      "execution_count": 10,
      "outputs": [
        {
          "output_type": "execute_result",
          "data": {
            "text/plain": [
              "[12, 16, 21, 21, 22, 23, 24, 25, 26, 27]"
            ]
          },
          "metadata": {},
          "execution_count": 10
        }
      ]
    }
  ]
}